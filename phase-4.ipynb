{
 "cells": [
  {
   "cell_type": "code",
   "execution_count": 2,
   "id": "d1e4adc2",
   "metadata": {},
   "outputs": [],
   "source": [
    "import numpy as np\n",
    "import matplotlib.pyplot as plt"
   ]
  },
  {
   "cell_type": "code",
   "execution_count": 7,
   "id": "632ccbef",
   "metadata": {},
   "outputs": [],
   "source": [
    "array1 = np.array([[1, 2, 3], [4, 5, 6]])\n",
    "array2 = np.random.rand(3, 3)\n",
    "array3 = np.zeros((4, 4))"
   ]
  },
  {
   "cell_type": "code",
   "execution_count": 8,
   "id": "94067b94",
   "metadata": {},
   "outputs": [],
   "source": [
    "np.save('array1.npy', array1)\n",
    "np.save('array2.npy', array2)\n",
    "np.save('array3.npy', array3)"
   ]
  },
  {
   "cell_type": "code",
   "execution_count": 10,
   "id": "514c6e3a",
   "metadata": {},
   "outputs": [
    {
     "name": "stdout",
     "output_type": "stream",
     "text": [
      "[[1 2 3]\n",
      " [4 5 6]]\n",
      "[[0.59860942 0.18516445 0.36678323]\n",
      " [0.32327598 0.00578824 0.17773222]\n",
      " [0.02911941 0.59200528 0.38083045]]\n",
      "[[0. 0. 0. 0.]\n",
      " [0. 0. 0. 0.]\n",
      " [0. 0. 0. 0.]\n",
      " [0. 0. 0. 0.]]\n"
     ]
    }
   ],
   "source": [
    "loaded_array1 = np.load('array1.npy')\n",
    "loaded_array2 = np.load('array2.npy')\n",
    "loaded_array3 = np.load('array3.npy')\n",
    "print(loaded_array1)\n",
    "print(loaded_array2)\n",
    "print(loaded_array3)"
   ]
  },
  {
   "cell_type": "code",
   "execution_count": 13,
   "id": "2b5da6be",
   "metadata": {},
   "outputs": [
    {
     "ename": "ValueError",
     "evalue": "This file contains pickled (object) data. If you trust the file you can load it unsafely using the `allow_pickle=` keyword argument or `pickle.load()`.",
     "output_type": "error",
     "traceback": [
      "\u001b[1;31m---------------------------------------------------------------------------\u001b[0m",
      "\u001b[1;31mValueError\u001b[0m                                Traceback (most recent call last)",
      "Cell \u001b[1;32mIn[13], line 2\u001b[0m\n\u001b[0;32m      1\u001b[0m \u001b[38;5;28;01mtry\u001b[39;00m:\n\u001b[1;32m----> 2\u001b[0m     logo \u001b[38;5;241m=\u001b[39m \u001b[43mnp\u001b[49m\u001b[38;5;241;43m.\u001b[39;49m\u001b[43mload\u001b[49m\u001b[43m(\u001b[49m\u001b[38;5;124;43m'\u001b[39;49m\u001b[38;5;124;43mnumpy-logo.npy\u001b[39;49m\u001b[38;5;124;43m'\u001b[39;49m\u001b[43m)\u001b[49m\n\u001b[0;32m      4\u001b[0m     \u001b[38;5;66;03m# Display the logo\u001b[39;00m\n\u001b[0;32m      5\u001b[0m     plt\u001b[38;5;241m.\u001b[39mFigure(figsize\u001b[38;5;241m=\u001b[39m(\u001b[38;5;241m10\u001b[39m, \u001b[38;5;241m5\u001b[39m))\n",
      "File \u001b[1;32mc:\\Users\\nachi\\OneDrive\\Desktop\\Numpy learning\\venv\\lib\\site-packages\\numpy\\lib\\_npyio_impl.py:486\u001b[0m, in \u001b[0;36mload\u001b[1;34m(file, mmap_mode, allow_pickle, fix_imports, encoding, max_header_size)\u001b[0m\n\u001b[0;32m    483\u001b[0m \u001b[38;5;28;01melse\u001b[39;00m:\n\u001b[0;32m    484\u001b[0m     \u001b[38;5;66;03m# Try a pickle\u001b[39;00m\n\u001b[0;32m    485\u001b[0m     \u001b[38;5;28;01mif\u001b[39;00m \u001b[38;5;129;01mnot\u001b[39;00m allow_pickle:\n\u001b[1;32m--> 486\u001b[0m         \u001b[38;5;28;01mraise\u001b[39;00m \u001b[38;5;167;01mValueError\u001b[39;00m(\n\u001b[0;32m    487\u001b[0m             \u001b[38;5;124m\"\u001b[39m\u001b[38;5;124mThis file contains pickled (object) data. If you trust \u001b[39m\u001b[38;5;124m\"\u001b[39m\n\u001b[0;32m    488\u001b[0m             \u001b[38;5;124m\"\u001b[39m\u001b[38;5;124mthe file you can load it unsafely using the \u001b[39m\u001b[38;5;124m\"\u001b[39m\n\u001b[0;32m    489\u001b[0m             \u001b[38;5;124m\"\u001b[39m\u001b[38;5;124m`allow_pickle=` keyword argument or `pickle.load()`.\u001b[39m\u001b[38;5;124m\"\u001b[39m)\n\u001b[0;32m    490\u001b[0m     \u001b[38;5;28;01mtry\u001b[39;00m:\n\u001b[0;32m    491\u001b[0m         \u001b[38;5;28;01mreturn\u001b[39;00m pickle\u001b[38;5;241m.\u001b[39mload(fid, \u001b[38;5;241m*\u001b[39m\u001b[38;5;241m*\u001b[39mpickle_kwargs)\n",
      "\u001b[1;31mValueError\u001b[0m: This file contains pickled (object) data. If you trust the file you can load it unsafely using the `allow_pickle=` keyword argument or `pickle.load()`."
     ]
    }
   ],
   "source": [
    "try:\n",
    "    logo = np.load('numpy-logo.npy')\n",
    "\n",
    "    # Display the logo\n",
    "    plt.Figure(figsize=(10, 5))\n",
    "    plt.Subplot(121)\n",
    "    plt.imshow(logo)\n",
    "    plt.title('NumPy Logo')\n",
    "    plt.grid(False)\n",
    "\n",
    "    dark_logo = 1 - logo\n",
    "    plt.Subplot(122)\n",
    "    plt.imshow(dark_logo)\n",
    "    plt.title('Dark NumPy Logo')\n",
    "    plt.grid(False)\n",
    "except FileNotFoundError:\n",
    "    print(\"File not found. Please check the file path and try again.\")    "
   ]
  }
 ],
 "metadata": {
  "kernelspec": {
   "display_name": "venv",
   "language": "python",
   "name": "python3"
  },
  "language_info": {
   "codemirror_mode": {
    "name": "ipython",
    "version": 3
   },
   "file_extension": ".py",
   "mimetype": "text/x-python",
   "name": "python",
   "nbconvert_exporter": "python",
   "pygments_lexer": "ipython3",
   "version": "3.10.11"
  }
 },
 "nbformat": 4,
 "nbformat_minor": 5
}
