{
 "cells": [
  {
   "cell_type": "markdown",
   "id": "38b11de5",
   "metadata": {},
   "source": [
    "## Numpy array and basics\n",
    "learn about numpy"
   ]
  },
  {
   "cell_type": "code",
   "execution_count": 1,
   "id": "29bfadcf",
   "metadata": {},
   "outputs": [],
   "source": [
    "import numpy as np"
   ]
  },
  {
   "cell_type": "markdown",
   "id": "5448c50d",
   "metadata": {},
   "source": [
    "### creating array from list"
   ]
  },
  {
   "cell_type": "code",
   "execution_count": 2,
   "id": "3ea8fe93",
   "metadata": {},
   "outputs": [
    {
     "name": "stdout",
     "output_type": "stream",
     "text": [
      "1D array:  [1 2 3 4 5]\n",
      "2D array:  [[1 2 3]\n",
      " [4 5 6]]\n"
     ]
    }
   ],
   "source": [
    "arr_1d = np.array([1, 2, 3, 4, 5])\n",
    "print(\"1D array: \", arr_1d)\n",
    "\n",
    "arr_2d = np.array([[1, 2, 3], [4, 5, 6]])\n",
    "print(\"2D array: \", arr_2d)"
   ]
  },
  {
   "cell_type": "markdown",
   "id": "8507619a",
   "metadata": {},
   "source": [
    "### List vs numpy array"
   ]
  },
  {
   "cell_type": "code",
   "execution_count": 4,
   "id": "9e387c63",
   "metadata": {},
   "outputs": [
    {
     "name": "stdout",
     "output_type": "stream",
     "text": [
      "Python list multiplication  [1, 2, 3, 1, 2, 3]\n",
      "Python list multiplication [2 4 6]\n",
      "\n",
      " List operation time:  0.10037970542907715\n",
      "\n",
      " Numpy operation time:  0.011574029922485352\n"
     ]
    }
   ],
   "source": [
    "py_list = [1, 2, 3]\n",
    "print(\"Python list multiplication \", py_list * 2)\n",
    "\n",
    "np_array = np.array([1, 2, 3]) # element wise multiplication\n",
    "print(\"Python list multiplication\", np_array * 2)\n",
    "\n",
    "import time\n",
    "start = time.time()\n",
    "py_list = [i*2 for i in range(1000000)]\n",
    "print(\"\\n List operation time: \", time.time() - start)\n",
    "\n",
    "start = time.time()\n",
    "np_array = np.arange(1000000) * 2\n",
    "print(\"\\n Numpy operation time: \", time.time() - start)"
   ]
  },
  {
   "cell_type": "markdown",
   "id": "98367c61",
   "metadata": {},
   "source": [
    "### creating array from scratch"
   ]
  },
  {
   "cell_type": "code",
   "execution_count": 9,
   "id": "43bc1d87",
   "metadata": {},
   "outputs": [
    {
     "name": "stdout",
     "output_type": "stream",
     "text": [
      "Zeros array: \n",
      "  [[0. 0. 0. 0.]\n",
      " [0. 0. 0. 0.]\n",
      " [0. 0. 0. 0.]]\n",
      "Ones array: \n",
      "  [[1. 1. 1.]\n",
      " [1. 1. 1.]]\n",
      "Full array: \n",
      "  [[7 7]\n",
      " [7 7]]\n",
      "Random array: \n",
      "  [[0.61824871 0.3610821  0.03590827]\n",
      " [0.94944046 0.83378211 0.98001099]]\n",
      "Sequence array: \n",
      "  [0 2 4 6 8]\n"
     ]
    }
   ],
   "source": [
    "zeros = np.zeros((3, 4))\n",
    "print(\"Zeros array: \\n \", zeros)\n",
    "\n",
    "ones = np.ones((2, 3))\n",
    "print(\"Ones array: \\n \", ones)\n",
    "\n",
    "full = np.full((2, 2), 7)\n",
    "print(\"Full array: \\n \", full)\n",
    "\n",
    "random = np.random.random((2, 3))\n",
    "print(\"Random array: \\n \", random)\n",
    "\n",
    "sequence = np.arange(0, 10, 2)\n",
    "print(\"Sequence array: \\n \", sequence)"
   ]
  },
  {
   "cell_type": "markdown",
   "id": "d0c16d73",
   "metadata": {},
   "source": [
    "### vector, Matrix and Tensor"
   ]
  },
  {
   "cell_type": "markdown",
   "id": "e2d67020",
   "metadata": {},
   "source": []
  }
 ],
 "metadata": {
  "kernelspec": {
   "display_name": "venv",
   "language": "python",
   "name": "python3"
  },
  "language_info": {
   "codemirror_mode": {
    "name": "ipython",
    "version": 3
   },
   "file_extension": ".py",
   "mimetype": "text/x-python",
   "name": "python",
   "nbconvert_exporter": "python",
   "pygments_lexer": "ipython3",
   "version": "3.10.11"
  }
 },
 "nbformat": 4,
 "nbformat_minor": 5
}
