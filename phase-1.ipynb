{
 "cells": [
  {
   "cell_type": "markdown",
   "id": "38b11de5",
   "metadata": {},
   "source": [
    "## Numpy array and basics\n",
    "learn about numpy"
   ]
  },
  {
   "cell_type": "code",
   "execution_count": 1,
   "id": "29bfadcf",
   "metadata": {},
   "outputs": [],
   "source": [
    "import numpy as np"
   ]
  },
  {
   "cell_type": "markdown",
   "id": "5448c50d",
   "metadata": {},
   "source": [
    "### creating array from list"
   ]
  },
  {
   "cell_type": "code",
   "execution_count": 2,
   "id": "3ea8fe93",
   "metadata": {},
   "outputs": [
    {
     "name": "stdout",
     "output_type": "stream",
     "text": [
      "1D array:  [1 2 3 4 5]\n",
      "2D array:  [[1 2 3]\n",
      " [4 5 6]]\n"
     ]
    }
   ],
   "source": [
    "arr_1d = np.array([1, 2, 3, 4, 5])\n",
    "print(\"1D array: \", arr_1d)\n",
    "\n",
    "arr_2d = np.array([[1, 2, 3], [4, 5, 6]])\n",
    "print(\"2D array: \", arr_2d)"
   ]
  },
  {
   "cell_type": "markdown",
   "id": "8507619a",
   "metadata": {},
   "source": [
    "### List vs numpy array"
   ]
  },
  {
   "cell_type": "code",
   "execution_count": 4,
   "id": "9e387c63",
   "metadata": {},
   "outputs": [
    {
     "name": "stdout",
     "output_type": "stream",
     "text": [
      "Python list multiplication  [1, 2, 3, 1, 2, 3]\n",
      "Python list multiplication [2 4 6]\n",
      "\n",
      " List operation time:  0.10037970542907715\n",
      "\n",
      " Numpy operation time:  0.011574029922485352\n"
     ]
    }
   ],
   "source": [
    "py_list = [1, 2, 3]\n",
    "print(\"Python list multiplication \", py_list * 2)\n",
    "\n",
    "np_array = np.array([1, 2, 3]) # element wise multiplication\n",
    "print(\"Python list multiplication\", np_array * 2)\n",
    "\n",
    "import time\n",
    "start = time.time()\n",
    "py_list = [i*2 for i in range(1000000)]\n",
    "print(\"\\n List operation time: \", time.time() - start)\n",
    "\n",
    "start = time.time()\n",
    "np_array = np.arange(1000000) * 2\n",
    "print(\"\\n Numpy operation time: \", time.time() - start)"
   ]
  },
  {
   "cell_type": "markdown",
   "id": "98367c61",
   "metadata": {},
   "source": [
    "### creating array from scratch"
   ]
  },
  {
   "cell_type": "code",
   "execution_count": 9,
   "id": "43bc1d87",
   "metadata": {},
   "outputs": [
    {
     "name": "stdout",
     "output_type": "stream",
     "text": [
      "Zeros array: \n",
      "  [[0. 0. 0. 0.]\n",
      " [0. 0. 0. 0.]\n",
      " [0. 0. 0. 0.]]\n",
      "Ones array: \n",
      "  [[1. 1. 1.]\n",
      " [1. 1. 1.]]\n",
      "Full array: \n",
      "  [[7 7]\n",
      " [7 7]]\n",
      "Random array: \n",
      "  [[0.61824871 0.3610821  0.03590827]\n",
      " [0.94944046 0.83378211 0.98001099]]\n",
      "Sequence array: \n",
      "  [0 2 4 6 8]\n"
     ]
    }
   ],
   "source": [
    "zeros = np.zeros((3, 4))\n",
    "print(\"Zeros array: \\n \", zeros)\n",
    "\n",
    "ones = np.ones((2, 3))\n",
    "print(\"Ones array: \\n \", ones)\n",
    "\n",
    "full = np.full((2, 2), 7)\n",
    "print(\"Full array: \\n \", full)\n",
    "\n",
    "random = np.random.random((2, 3))\n",
    "print(\"Random array: \\n \", random)\n",
    "\n",
    "sequence = np.arange(0, 10, 2)\n",
    "print(\"Sequence array: \\n \", sequence)"
   ]
  },
  {
   "cell_type": "markdown",
   "id": "d0c16d73",
   "metadata": {},
   "source": [
    "### vector, Matrix and Tensor"
   ]
  },
  {
   "cell_type": "code",
   "execution_count": 10,
   "id": "225422b8",
   "metadata": {},
   "outputs": [
    {
     "name": "stdout",
     "output_type": "stream",
     "text": [
      "Vector:  [1 2 3]\n",
      "Matrix: \n",
      " [[1 2 3]\n",
      " [4 5 6]]\n",
      "Tensor: \n",
      " [[[1 2]\n",
      "  [3 4]]\n",
      "\n",
      " [[5 6]\n",
      "  [7 8]]]\n"
     ]
    }
   ],
   "source": [
    "vector = np.array([1, 2, 3])\n",
    "print(\"Vector: \", vector)\n",
    "\n",
    "matrix = np.array([[1, 2, 3],\n",
    "                   [4, 5, 6]])\n",
    "print(\"Matrix: \\n\", matrix)\n",
    "\n",
    "tensor = np.array([[[1, 2], [3, 4]],\n",
    "                    [[5, 6], [7, 8]]])\n",
    "print(\"Tensor: \\n\", tensor)"
   ]
  },
  {
   "cell_type": "markdown",
   "id": "805d00ec",
   "metadata": {},
   "source": [
    "### Array properties"
   ]
  },
  {
   "cell_type": "code",
   "execution_count": 11,
   "id": "b7ca087f",
   "metadata": {},
   "outputs": [
    {
     "name": "stdout",
     "output_type": "stream",
     "text": [
      "Shape: (2, 3)\n",
      "Dimension: 2\n",
      "Size: 6\n",
      "Data type: int64\n"
     ]
    }
   ],
   "source": [
    "arr = np.array([[1, 2, 3], [4, 5, 6]])\n",
    "print(\"Shape:\", arr.shape)\n",
    "print(\"Dimension:\", arr.ndim)\n",
    "print(\"Size:\", arr.size)\n",
    "print(\"Data type:\", arr.dtype)"
   ]
  },
  {
   "cell_type": "markdown",
   "id": "1cf52af5",
   "metadata": {},
   "source": [
    "### Array Reshaping"
   ]
  },
  {
   "cell_type": "code",
   "execution_count": 15,
   "id": "b2eb1898",
   "metadata": {},
   "outputs": [
    {
     "name": "stdout",
     "output_type": "stream",
     "text": [
      "Original array:  [ 0  1  2  3  4  5  6  7  8  9 10 11]\n",
      "Reshaped array: \n",
      " [[ 0  1  2  3]\n",
      " [ 4  5  6  7]\n",
      " [ 8  9 10 11]]\n",
      "Flattened array:  [ 0  1  2  3  4  5  6  7  8  9 10 11]\n",
      "Raveled array:  [ 0  1  2  3  4  5  6  7  8  9 10 11]\n",
      "Transposed array: \n",
      " [[ 0  4  8]\n",
      " [ 1  5  9]\n",
      " [ 2  6 10]\n",
      " [ 3  7 11]]\n"
     ]
    }
   ],
   "source": [
    "arr = np.arange(12)\n",
    "print(\"Original array: \", arr)\n",
    "\n",
    "reshaped = arr.reshape(3, 4)\n",
    "print(\"Reshaped array: \\n\", reshaped)\n",
    "\n",
    "flattend = reshaped.flatten()\n",
    "print(\"Flattened array: \", flattend)\n",
    "\n",
    "# ravel (returns view of the original array instead of a copy)\n",
    "raveled = reshaped.ravel()\n",
    "print(\"Raveled array: \", raveled)\n",
    "\n",
    "# Transpose\n",
    "transpose = reshaped.T\n",
    "print(\"Transposed array: \\n\", transpose)"
   ]
  }
 ],
 "metadata": {
  "kernelspec": {
   "display_name": "venv",
   "language": "python",
   "name": "python3"
  },
  "language_info": {
   "codemirror_mode": {
    "name": "ipython",
    "version": 3
   },
   "file_extension": ".py",
   "mimetype": "text/x-python",
   "name": "python",
   "nbconvert_exporter": "python",
   "pygments_lexer": "ipython3",
   "version": "3.10.11"
  }
 },
 "nbformat": 4,
 "nbformat_minor": 5
}
